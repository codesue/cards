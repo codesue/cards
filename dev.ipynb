{
 "cells": [
  {
   "cell_type": "markdown",
   "metadata": {},
   "source": [
    "# Happy hacking! 😊\n",
    "\n",
    "## Setup\n",
    "\n",
    "### Install dependencies"
   ]
  },
  {
   "cell_type": "code",
   "execution_count": null,
   "metadata": {},
   "outputs": [],
   "source": [
    "%%capture\n",
    "%pip install streamlit model-card-toolkit --use-deprecated=legacy-resolver"
   ]
  },
  {
   "cell_type": "markdown",
   "metadata": {},
   "source": [
    "Only install the following dependencies if you're running your notebook remotely, e.g. in Colab, and won't have access to a terminal to launch your Streamlit app. To learn more about how this works, watch the tutorial [Run Streamlit App on Colab without Ngrok (LocalTunnel)](https://www.youtube.com/watch?v=NEhrkeF2o_M)."
   ]
  },
  {
   "cell_type": "code",
   "execution_count": null,
   "metadata": {},
   "outputs": [],
   "source": [
    "%%capture\n",
    "%pip install pyngrok\n",
    "!npm install -g localtunnel"
   ]
  },
  {
   "cell_type": "markdown",
   "metadata": {},
   "source": [
    "## Create an app\n",
    "\n",
    "1. Load the contents of `app.py` by running cell below.\n",
    "2. Make changes to the code.\n",
    "3. Write your changes to `app_dev.py` by deleting `# %load app.py`, uncommenting `%%writefile app_dev.py`, and rerunning the cell."
   ]
  },
  {
   "cell_type": "code",
   "execution_count": null,
   "metadata": {},
   "outputs": [],
   "source": [
    "%load app.py"
   ]
  },
  {
   "cell_type": "markdown",
   "metadata": {},
   "source": [
    "## Launch your app\n",
    "\n",
    "If you're running the notebook locally, launch your app in a terminal using the following command:\n",
    "\n",
    "```sh\n",
    "streamlit run app_dev.py\n",
    "```\n",
    "\n",
    "Then you may view the app within the notebook:\n",
    "\n"
   ]
  },
  {
   "cell_type": "code",
   "execution_count": null,
   "metadata": {},
   "outputs": [],
   "source": [
    "%%html\n",
    "<iframe src=\"http://localhost:8501\" title=\"Streamlit App\" height=500 width=100% style=\"border:1px solid #e6e9ef;\">"
   ]
  },
  {
   "cell_type": "markdown",
   "metadata": {},
   "source": [
    "If you're running the notebook remotely and don't have access to a terminal, launch your app in the following cell:\n"
   ]
  },
  {
   "cell_type": "code",
   "execution_count": null,
   "metadata": {},
   "outputs": [],
   "source": [
    "!streamlit run app_dev.py & npx localtunnel --port 8501"
   ]
  }
 ],
 "metadata": {
  "kernelspec": {
   "display_name": "Python 3.9.13 64-bit ('cards')",
   "language": "python",
   "name": "python3"
  },
  "language_info": {
   "codemirror_mode": {
    "name": "ipython",
    "version": 3
   },
   "file_extension": ".py",
   "mimetype": "text/x-python",
   "name": "python",
   "nbconvert_exporter": "python",
   "pygments_lexer": "ipython3",
   "version": "3.9.13"
  },
  "orig_nbformat": 4,
  "vscode": {
   "interpreter": {
    "hash": "e8ec5eb3da284032ee29b19379329ce8b3294de133ee4bb3976e4efdbff8a051"
   }
  }
 },
 "nbformat": 4,
 "nbformat_minor": 2
}
